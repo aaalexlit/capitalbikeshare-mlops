{
 "cells": [
  {
   "cell_type": "code",
   "execution_count": 2,
   "metadata": {},
   "outputs": [],
   "source": [
    "from pathlib import Path\n",
    "import pandas as pd\n",
    "import requests\n",
    "from zipfile import ZipFile\n",
    "import matplotlib.pyplot as plt\n",
    "import seaborn as sns\n",
    "import os\n",
    "import shutil"
   ]
  },
  {
   "cell_type": "code",
   "execution_count": 26,
   "metadata": {},
   "outputs": [
    {
     "name": "stdout",
     "output_type": "stream",
     "text": [
      "201801-capitalbikeshare-tripdata.zip\n",
      "201802-capitalbikeshare-tripdata.zip\n",
      "201803-capitalbikeshare-tripdata.zip\n",
      "202301-capitalbikeshare-tripdata.zip\n",
      "202302-capitalbikeshare-tripdata.zip\n",
      "202303-capitalbikeshare-tripdata.zip\n"
     ]
    }
   ],
   "source": [
    "import itertools\n",
    "months = [1, 2, 3]\n",
    "years = [2018, 2023]\n",
    "for year, month in itertools.product(years, months):\n",
    "    file_name = f\"{year}{month:02}-capitalbikeshare-tripdata.zip\"\n",
    "    print(file_name)\n",
    "\n",
    "base_url = \"https://s3.amazonaws.com/capitalbikeshare-data/\""
   ]
  },
  {
   "cell_type": "code",
   "execution_count": 4,
   "metadata": {},
   "outputs": [],
   "source": [
    "# download file from s3 bucket unzip it and read csv file with pandas\n",
    "\n",
    "def download_locally(base_url: str, file_name: str) -> Path:\n",
    "    \"\"\"Download files locally to then upload them to S3\"\"\"\n",
    "    dir_path = Path('../data')\n",
    "    filepath = Path(dir_path /file_name)\n",
    "    if not filepath.exists():\n",
    "        url = base_url + file_name\n",
    "        response = requests.get(url, timeout=100)\n",
    "        # if not dir_path.exists():\n",
    "        #     dir_path.mkdir()\n",
    "        with filepath.open('wb') as f:\n",
    "            f.write(response.content)\n",
    "    return filepath"
   ]
  },
  {
   "cell_type": "code",
   "execution_count": 5,
   "metadata": {},
   "outputs": [],
   "source": [
    "# unzip a file\n",
    "def unzip_file(file_name: str, output_dir: str ='../data/'):\n",
    "    with ZipFile(file_name, 'r') as zip_ref:\n",
    "        zip_ref.extractall(output_dir)"
   ]
  },
  {
   "cell_type": "code",
   "execution_count": 31,
   "metadata": {},
   "outputs": [],
   "source": [
    "for year, month in itertools.product(years, months):\n",
    "    file_name = f\"{year}{month:02}-capitalbikeshare-tripdata.zip\"\n",
    "    local_zip = download_locally(base_url, file_name)\n",
    "    unzip_file(local_zip)\n",
    "    os.remove(local_zip)\n",
    "    shutil.rmtree(local_zip.parent / \"__MACOSX\", ignore_errors=True)"
   ]
  },
  {
   "cell_type": "code",
   "execution_count": 7,
   "metadata": {},
   "outputs": [],
   "source": [
    "df = pd.read_csv('../data/202301-capitalbikeshare-tripdata.csv', parse_dates=['started_at', 'ended_at'])"
   ]
  },
  {
   "cell_type": "code",
   "execution_count": 8,
   "metadata": {},
   "outputs": [],
   "source": [
    "df.dropna(inplace=True)\n",
    "df['duration'] = df.ended_at - df.started_at\n",
    "df.duration = df.duration.apply(lambda td: td.total_seconds() / 60)\n",
    "df = df[(df.duration >=1) & (df.duration <= 100)]\n"
   ]
  },
  {
   "cell_type": "code",
   "execution_count": 9,
   "metadata": {},
   "outputs": [
    {
     "data": {
      "image/png": "[encoded data removed]",
      "text/plain": [
       "<Figure size 640x480 with 1 Axes>"
      ]
     },
     "metadata": {},
     "output_type": "display_data"
    }
   ],
   "source": [
    "sns.histplot(\n",
    "    df.duration , kde=True,\n",
    "    stat=\"density\", kde_kws=dict(cut=3), bins=50,\n",
    "    alpha=.4, edgecolor=(1, 1, 1, 0.4),\n",
    ");"
   ]
  },
  {
   "cell_type": "code",
   "execution_count": 16,
   "metadata": {},
   "outputs": [],
   "source": [
    "df['hour'] = df.started_at.dt.hour"
   ]
  },
  {
   "cell_type": "code",
   "execution_count": 10,
   "metadata": {},
   "outputs": [],
   "source": [
    "categorical = ['start_station_id', 'end_station_id', 'rideable_type', 'member_casual']\n",
    "numerical = ['start_lat', 'start_lng', 'end_lat', 'end_lng']"
   ]
  },
  {
   "cell_type": "code",
   "execution_count": 17,
   "metadata": {},
   "outputs": [
    {
     "data": {
      "text/html": [
       "<div>\n",
       "<style scoped>\n",
       "    .dataframe tbody tr th:only-of-type {\n",
       "        vertical-align: middle;\n",
       "    }\n",
       "\n",
       "    .dataframe tbody tr th {\n",
       "        vertical-align: top;\n",
       "    }\n",
       "\n",
       "    .dataframe thead th {\n",
       "        text-align: right;\n",
       "    }\n",
       "</style>\n",
       "<table border=\"1\" class=\"dataframe\">\n",
       "  <thead>\n",
       "    <tr style=\"text-align: right;\">\n",
       "      <th></th>\n",
       "      <th>ride_id</th>\n",
       "      <th>rideable_type</th>\n",
       "      <th>started_at</th>\n",
       "      <th>ended_at</th>\n",
       "      <th>start_station_name</th>\n",
       "      <th>start_station_id</th>\n",
       "      <th>end_station_name</th>\n",
       "      <th>end_station_id</th>\n",
       "      <th>start_lat</th>\n",
       "      <th>start_lng</th>\n",
       "      <th>end_lat</th>\n",
       "      <th>end_lng</th>\n",
       "      <th>member_casual</th>\n",
       "      <th>duration</th>\n",
       "      <th>hour</th>\n",
       "    </tr>\n",
       "  </thead>\n",
       "  <tbody>\n",
       "    <tr>\n",
       "      <th>0</th>\n",
       "      <td>65F0ACD101BF0D49</td>\n",
       "      <td>classic_bike</td>\n",
       "      <td>2023-01-04 19:34:07</td>\n",
       "      <td>2023-01-04 19:39:29</td>\n",
       "      <td>East Falls Church Metro / Sycamore St &amp; 19th St N</td>\n",
       "      <td>31904.0</td>\n",
       "      <td>W Columbia St &amp; N Washington St</td>\n",
       "      <td>32609.0</td>\n",
       "      <td>38.885321</td>\n",
       "      <td>-77.156427</td>\n",
       "      <td>38.885621</td>\n",
       "      <td>-77.166917</td>\n",
       "      <td>member</td>\n",
       "      <td>5.366667</td>\n",
       "      <td>19</td>\n",
       "    </tr>\n",
       "    <tr>\n",
       "      <th>2</th>\n",
       "      <td>33E85889625FF7CA</td>\n",
       "      <td>classic_bike</td>\n",
       "      <td>2023-01-05 20:44:38</td>\n",
       "      <td>2023-01-05 20:51:18</td>\n",
       "      <td>15th &amp; L St NW</td>\n",
       "      <td>31276.0</td>\n",
       "      <td>Thomas Circle</td>\n",
       "      <td>31241.0</td>\n",
       "      <td>38.903649</td>\n",
       "      <td>-77.034918</td>\n",
       "      <td>38.905900</td>\n",
       "      <td>-77.032500</td>\n",
       "      <td>member</td>\n",
       "      <td>6.666667</td>\n",
       "      <td>20</td>\n",
       "    </tr>\n",
       "    <tr>\n",
       "      <th>3</th>\n",
       "      <td>E1F055A1651F47A1</td>\n",
       "      <td>classic_bike</td>\n",
       "      <td>2023-01-03 17:45:14</td>\n",
       "      <td>2023-01-03 17:57:23</td>\n",
       "      <td>Hartland Rd &amp; Harte Pl</td>\n",
       "      <td>32255.0</td>\n",
       "      <td>Merrifield Cinema &amp; Merrifield Town Center</td>\n",
       "      <td>32235.0</td>\n",
       "      <td>38.878601</td>\n",
       "      <td>-77.222808</td>\n",
       "      <td>38.870093</td>\n",
       "      <td>-77.229970</td>\n",
       "      <td>member</td>\n",
       "      <td>12.150000</td>\n",
       "      <td>17</td>\n",
       "    </tr>\n",
       "    <tr>\n",
       "      <th>4</th>\n",
       "      <td>88CC90CEEC298BAF</td>\n",
       "      <td>classic_bike</td>\n",
       "      <td>2023-01-03 05:18:46</td>\n",
       "      <td>2023-01-03 05:25:50</td>\n",
       "      <td>Merrifield Cinema &amp; Merrifield Town Center</td>\n",
       "      <td>32235.0</td>\n",
       "      <td>Hartland Rd &amp; Harte Pl</td>\n",
       "      <td>32255.0</td>\n",
       "      <td>38.870093</td>\n",
       "      <td>-77.229970</td>\n",
       "      <td>38.878601</td>\n",
       "      <td>-77.222808</td>\n",
       "      <td>member</td>\n",
       "      <td>7.066667</td>\n",
       "      <td>5</td>\n",
       "    </tr>\n",
       "    <tr>\n",
       "      <th>5</th>\n",
       "      <td>3E1CDC543ED2A000</td>\n",
       "      <td>classic_bike</td>\n",
       "      <td>2023-01-11 16:55:16</td>\n",
       "      <td>2023-01-11 17:21:54</td>\n",
       "      <td>Smithsonian-National Mall / Jefferson Dr &amp; 12t...</td>\n",
       "      <td>31248.0</td>\n",
       "      <td>23rd &amp; E St NW</td>\n",
       "      <td>31260.0</td>\n",
       "      <td>38.888774</td>\n",
       "      <td>-77.028694</td>\n",
       "      <td>38.896104</td>\n",
       "      <td>-77.049882</td>\n",
       "      <td>casual</td>\n",
       "      <td>26.633333</td>\n",
       "      <td>16</td>\n",
       "    </tr>\n",
       "    <tr>\n",
       "      <th>...</th>\n",
       "      <td>...</td>\n",
       "      <td>...</td>\n",
       "      <td>...</td>\n",
       "      <td>...</td>\n",
       "      <td>...</td>\n",
       "      <td>...</td>\n",
       "      <td>...</td>\n",
       "      <td>...</td>\n",
       "      <td>...</td>\n",
       "      <td>...</td>\n",
       "      <td>...</td>\n",
       "      <td>...</td>\n",
       "      <td>...</td>\n",
       "      <td>...</td>\n",
       "      <td>...</td>\n",
       "    </tr>\n",
       "    <tr>\n",
       "      <th>204071</th>\n",
       "      <td>03A4923C5C594BF8</td>\n",
       "      <td>classic_bike</td>\n",
       "      <td>2023-01-07 15:05:50</td>\n",
       "      <td>2023-01-07 15:12:22</td>\n",
       "      <td>9th &amp; Ingraham St NW</td>\n",
       "      <td>31424.0</td>\n",
       "      <td>9th &amp; Ingraham St NW</td>\n",
       "      <td>31424.0</td>\n",
       "      <td>38.953663</td>\n",
       "      <td>-77.025613</td>\n",
       "      <td>38.953663</td>\n",
       "      <td>-77.025613</td>\n",
       "      <td>member</td>\n",
       "      <td>6.533333</td>\n",
       "      <td>15</td>\n",
       "    </tr>\n",
       "    <tr>\n",
       "      <th>204073</th>\n",
       "      <td>B98CAF2704F3C775</td>\n",
       "      <td>classic_bike</td>\n",
       "      <td>2023-01-18 18:56:15</td>\n",
       "      <td>2023-01-18 19:12:32</td>\n",
       "      <td>4th &amp; Florida Ave NE</td>\n",
       "      <td>31532.0</td>\n",
       "      <td>Eastern Market Metro / Pennsylvania Ave &amp; 8th ...</td>\n",
       "      <td>31613.0</td>\n",
       "      <td>38.907316</td>\n",
       "      <td>-77.000698</td>\n",
       "      <td>38.884095</td>\n",
       "      <td>-76.995234</td>\n",
       "      <td>casual</td>\n",
       "      <td>16.283333</td>\n",
       "      <td>18</td>\n",
       "    </tr>\n",
       "    <tr>\n",
       "      <th>204074</th>\n",
       "      <td>98C55996101A7D83</td>\n",
       "      <td>classic_bike</td>\n",
       "      <td>2023-01-04 10:11:59</td>\n",
       "      <td>2023-01-04 10:14:24</td>\n",
       "      <td>M St &amp; Pennsylvania Ave NW</td>\n",
       "      <td>31246.0</td>\n",
       "      <td>M St &amp; Pennsylvania Ave NW</td>\n",
       "      <td>31246.0</td>\n",
       "      <td>38.905126</td>\n",
       "      <td>-77.056887</td>\n",
       "      <td>38.905126</td>\n",
       "      <td>-77.056887</td>\n",
       "      <td>casual</td>\n",
       "      <td>2.416667</td>\n",
       "      <td>10</td>\n",
       "    </tr>\n",
       "    <tr>\n",
       "      <th>204075</th>\n",
       "      <td>B8E2AAD40EC5675B</td>\n",
       "      <td>electric_bike</td>\n",
       "      <td>2023-01-11 17:36:30</td>\n",
       "      <td>2023-01-11 17:56:03</td>\n",
       "      <td>Tanner Park</td>\n",
       "      <td>31533.0</td>\n",
       "      <td>Eastern Market Metro / Pennsylvania Ave &amp; 8th ...</td>\n",
       "      <td>31613.0</td>\n",
       "      <td>38.911257</td>\n",
       "      <td>-77.002206</td>\n",
       "      <td>38.884095</td>\n",
       "      <td>-76.995234</td>\n",
       "      <td>casual</td>\n",
       "      <td>19.550000</td>\n",
       "      <td>17</td>\n",
       "    </tr>\n",
       "    <tr>\n",
       "      <th>204076</th>\n",
       "      <td>44CBB9BB16996C4C</td>\n",
       "      <td>classic_bike</td>\n",
       "      <td>2023-01-11 08:38:07</td>\n",
       "      <td>2023-01-11 08:39:48</td>\n",
       "      <td>Eastern Market Metro / Pennsylvania Ave &amp; 8th ...</td>\n",
       "      <td>31613.0</td>\n",
       "      <td>Eastern Market Metro / Pennsylvania Ave &amp; 8th ...</td>\n",
       "      <td>31613.0</td>\n",
       "      <td>38.884095</td>\n",
       "      <td>-76.995234</td>\n",
       "      <td>38.884095</td>\n",
       "      <td>-76.995234</td>\n",
       "      <td>casual</td>\n",
       "      <td>1.683333</td>\n",
       "      <td>8</td>\n",
       "    </tr>\n",
       "  </tbody>\n",
       "</table>\n",
       "<p>187253 rows × 15 columns</p>\n",
       "</div>"
      ],
      "text/plain": [
       "                 ride_id  rideable_type          started_at  \\\n",
       "0       65F0ACD101BF0D49   classic_bike 2023-01-04 19:34:07   \n",
       "2       33E85889625FF7CA   classic_bike 2023-01-05 20:44:38   \n",
       "3       E1F055A1651F47A1   classic_bike 2023-01-03 17:45:14   \n",
       "4       88CC90CEEC298BAF   classic_bike 2023-01-03 05:18:46   \n",
       "5       3E1CDC543ED2A000   classic_bike 2023-01-11 16:55:16   \n",
       "...                  ...            ...                 ...   \n",
       "204071  03A4923C5C594BF8   classic_bike 2023-01-07 15:05:50   \n",
       "204073  B98CAF2704F3C775   classic_bike 2023-01-18 18:56:15   \n",
       "204074  98C55996101A7D83   classic_bike 2023-01-04 10:11:59   \n",
       "204075  B8E2AAD40EC5675B  electric_bike 2023-01-11 17:36:30   \n",
       "204076  44CBB9BB16996C4C   classic_bike 2023-01-11 08:38:07   \n",
       "\n",
       "                  ended_at                                 start_station_name  \\\n",
       "0      2023-01-04 19:39:29  East Falls Church Metro / Sycamore St & 19th St N   \n",
       "2      2023-01-05 20:51:18                                     15th & L St NW   \n",
       "3      2023-01-03 17:57:23                             Hartland Rd & Harte Pl   \n",
       "4      2023-01-03 05:25:50         Merrifield Cinema & Merrifield Town Center   \n",
       "5      2023-01-11 17:21:54  Smithsonian-National Mall / Jefferson Dr & 12t...   \n",
       "...                    ...                                                ...   \n",
       "204071 2023-01-07 15:12:22                               9th & Ingraham St NW   \n",
       "204073 2023-01-18 19:12:32                               4th & Florida Ave NE   \n",
       "204074 2023-01-04 10:14:24                         M St & Pennsylvania Ave NW   \n",
       "204075 2023-01-11 17:56:03                                        Tanner Park   \n",
       "204076 2023-01-11 08:39:48  Eastern Market Metro / Pennsylvania Ave & 8th ...   \n",
       "\n",
       "        start_station_id                                   end_station_name  \\\n",
       "0                31904.0                    W Columbia St & N Washington St   \n",
       "2                31276.0                                      Thomas Circle   \n",
       "3                32255.0         Merrifield Cinema & Merrifield Town Center   \n",
       "4                32235.0                             Hartland Rd & Harte Pl   \n",
       "5                31248.0                                    23rd & E St NW    \n",
       "...                  ...                                                ...   \n",
       "204071           31424.0                               9th & Ingraham St NW   \n",
       "204073           31532.0  Eastern Market Metro / Pennsylvania Ave & 8th ...   \n",
       "204074           31246.0                         M St & Pennsylvania Ave NW   \n",
       "204075           31533.0  Eastern Market Metro / Pennsylvania Ave & 8th ...   \n",
       "204076           31613.0  Eastern Market Metro / Pennsylvania Ave & 8th ...   \n",
       "\n",
       "        end_station_id  start_lat  start_lng    end_lat    end_lng  \\\n",
       "0              32609.0  38.885321 -77.156427  38.885621 -77.166917   \n",
       "2              31241.0  38.903649 -77.034918  38.905900 -77.032500   \n",
       "3              32235.0  38.878601 -77.222808  38.870093 -77.229970   \n",
       "4              32255.0  38.870093 -77.229970  38.878601 -77.222808   \n",
       "5              31260.0  38.888774 -77.028694  38.896104 -77.049882   \n",
       "...                ...        ...        ...        ...        ...   \n",
       "204071         31424.0  38.953663 -77.025613  38.953663 -77.025613   \n",
       "204073         31613.0  38.907316 -77.000698  38.884095 -76.995234   \n",
       "204074         31246.0  38.905126 -77.056887  38.905126 -77.056887   \n",
       "204075         31613.0  38.911257 -77.002206  38.884095 -76.995234   \n",
       "204076         31613.0  38.884095 -76.995234  38.884095 -76.995234   \n",
       "\n",
       "       member_casual   duration  hour  \n",
       "0             member   5.366667    19  \n",
       "2             member   6.666667    20  \n",
       "3             member  12.150000    17  \n",
       "4             member   7.066667     5  \n",
       "5             casual  26.633333    16  \n",
       "...              ...        ...   ...  \n",
       "204071        member   6.533333    15  \n",
       "204073        casual  16.283333    18  \n",
       "204074        casual   2.416667    10  \n",
       "204075        casual  19.550000    17  \n",
       "204076        casual   1.683333     8  \n",
       "\n",
       "[187253 rows x 15 columns]"
      ]
     },
     "execution_count": 17,
     "metadata": {},
     "output_type": "execute_result"
    }
   ],
   "source": [
    "df"
   ]
  },
  {
   "cell_type": "code",
   "execution_count": 6,
   "metadata": {},
   "outputs": [],
   "source": [
    "df = pd.read_csv('../data/processed/202004-202306-processed.csv',\n",
    "dtype={'start_station_id': 'str', 'end_station_id': 'str', 'rideable_type': 'str', 'member_casual': 'str',\n",
    "'hour': 'int', 'year': 'int', 'duration': 'float'},\n",
    "parse_dates=['started_at'])"
   ]
  },
  {
   "cell_type": "code",
   "execution_count": 7,
   "metadata": {},
   "outputs": [
    {
     "name": "stdout",
     "output_type": "stream",
     "text": [
      "<class 'pandas.core.frame.DataFrame'>\n",
      "RangeIndex: 8814264 entries, 0 to 8814263\n",
      "Data columns (total 8 columns):\n",
      " #   Column            Dtype         \n",
      "---  ------            -----         \n",
      " 0   start_station_id  object        \n",
      " 1   end_station_id    object        \n",
      " 2   rideable_type     object        \n",
      " 3   member_casual     object        \n",
      " 4   hour              int64         \n",
      " 5   year              int64         \n",
      " 6   duration          float64       \n",
      " 7   started_at        datetime64[ns]\n",
      "dtypes: datetime64[ns](1), float64(1), int64(2), object(4)\n",
      "memory usage: 538.0+ MB\n"
     ]
    }
   ],
   "source": [
    "df.info()"
   ]
  },
  {
   "cell_type": "code",
   "execution_count": 9,
   "metadata": {},
   "outputs": [
    {
     "data": {
      "text/plain": [
       "rideable_type\n",
       "classic_bike     6105459\n",
       "docked_bike      1773224\n",
       "electric_bike     935581\n",
       "Name: count, dtype: int64"
      ]
     },
     "execution_count": 9,
     "metadata": {},
     "output_type": "execute_result"
    }
   ],
   "source": [
    "df.rideable_type.value_counts()"
   ]
  },
  {
   "cell_type": "code",
   "execution_count": 10,
   "metadata": {},
   "outputs": [
    {
     "data": {
      "text/plain": [
       "member_casual\n",
       "member    5300834\n",
       "casual    3513430\n",
       "Name: count, dtype: int64"
      ]
     },
     "execution_count": 10,
     "metadata": {},
     "output_type": "execute_result"
    }
   ],
   "source": [
    "df.member_casual.value_counts()"
   ]
  },
  {
   "cell_type": "code",
   "execution_count": null,
   "metadata": {},
   "outputs": [],
   "source": []
  }
 ],
 "metadata": {
  "kernelspec": {
   "display_name": "capitalbikeshare-mlops",
   "language": "python",
   "name": "python3"
  },
  "language_info": {
   "codemirror_mode": {
    "name": "ipython",
    "version": 3
   },
   "file_extension": ".py",
   "mimetype": "text/x-python",
   "name": "python",
   "nbconvert_exporter": "python",
   "pygments_lexer": "ipython3",
   "version": "3.10.12"
  },
  "orig_nbformat": 4
 },
 "nbformat": 4,
 "nbformat_minor": 2
}
